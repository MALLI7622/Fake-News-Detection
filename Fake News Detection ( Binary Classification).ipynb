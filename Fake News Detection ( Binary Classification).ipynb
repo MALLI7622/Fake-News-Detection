{
 "cells": [
  {
   "cell_type": "code",
   "execution_count": 1,
   "metadata": {},
   "outputs": [],
   "source": [
    "import pandas as pd\n",
    "from sklearn.feature_extraction.text import CountVectorizer, TfidfVectorizer, HashingVectorizer\n",
    "from sklearn.linear_model import PassiveAggressiveClassifier, SGDClassifier\n",
    "from sklearn.svm import LinearSVC\n",
    "from sklearn.naive_bayes import MultinomialNB\n",
    "from sklearn import metrics\n",
    "from sklearn.utils import shuffle\n",
    "import seaborn as sns\n",
    "from matplotlib import pyplot as plt\n",
    "from sklearn.metrics import classification_report"
   ]
  },
  {
   "cell_type": "code",
   "execution_count": 2,
   "metadata": {},
   "outputs": [],
   "source": [
    "train2_tsv = 'train2.tsv'\n",
    "train2_csv = pd.read_table(train2_tsv,sep = '\\t')\n",
    "train2_csv.to_csv('train2.csv',index = True)"
   ]
  },
  {
   "cell_type": "code",
   "execution_count": 3,
   "metadata": {},
   "outputs": [],
   "source": [
    "train = pd.read_csv('train2.csv')\n",
    "train_dict = {'ID':train['0'],'train_statement':train['Says the Annies List political group supports third-trimester abortions on demand.'],\n",
    "          'Justification':train[\"That's a premise that he fails to back up. Annie's List makes no bones about being comfortable with candidates who oppose further restrictions on late-term abortions. Then again, this year its backing two House candidates who voted for more limits.\"],\n",
    "          'train_label':train['false']}\n",
    "train_df = pd.DataFrame(train_dict)"
   ]
  },
  {
   "cell_type": "code",
   "execution_count": 4,
   "metadata": {},
   "outputs": [
    {
     "data": {
      "text/plain": [
       "ID                 10239\n",
       "train_statement    10239\n",
       "Justification      10155\n",
       "train_label        10239\n",
       "dtype: int64"
      ]
     },
     "execution_count": 4,
     "metadata": {},
     "output_type": "execute_result"
    }
   ],
   "source": [
    "train_df.count()"
   ]
  },
  {
   "cell_type": "code",
   "execution_count": 5,
   "metadata": {},
   "outputs": [
    {
     "name": "stdout",
     "output_type": "stream",
     "text": [
      "ID                 1994\n",
      "train_statement    1994\n",
      "Justification      1975\n",
      "train_label        1994\n",
      "dtype: int64\n",
      "ID                 1676\n",
      "train_statement    1676\n",
      "Justification      1664\n",
      "train_label        1676\n",
      "dtype: int64\n"
     ]
    }
   ],
   "source": [
    "false_set = train_df.loc[train_df['train_label'] == 'false']\n",
    "true_set = train_df.loc[train_df['train_label'] == 'true']\n",
    "print(false_set.count())\n",
    "print(true_set.count())"
   ]
  },
  {
   "cell_type": "code",
   "execution_count": 6,
   "metadata": {},
   "outputs": [],
   "source": [
    "real_train_data = pd.concat([false_set,true_set])"
   ]
  },
  {
   "cell_type": "code",
   "execution_count": 7,
   "metadata": {},
   "outputs": [],
   "source": [
    "real_train_data = shuffle(real_train_data)"
   ]
  },
  {
   "cell_type": "code",
   "execution_count": 8,
   "metadata": {},
   "outputs": [
    {
     "data": {
      "text/plain": [
       "Index(['ID', 'train_statement', 'Justification', 'train_label'], dtype='object')"
      ]
     },
     "execution_count": 8,
     "metadata": {},
     "output_type": "execute_result"
    }
   ],
   "source": [
    "real_train_data.columns"
   ]
  },
  {
   "cell_type": "code",
   "execution_count": 9,
   "metadata": {},
   "outputs": [],
   "source": [
    "test2_tsv = 'test2.tsv'\n",
    "test2_csv = pd.read_table(test2_tsv,sep = '\\t')\n",
    "test2_csv.to_csv('test2.csv',index = False)"
   ]
  },
  {
   "cell_type": "code",
   "execution_count": 10,
   "metadata": {},
   "outputs": [],
   "source": [
    "test = pd.read_csv('test2.csv')\n",
    "test_dict = {'ID':test['0'],'test_statement':test['Building a wall on the U.S.-Mexico border will take literally years.'],\n",
    "          'Justification':test['Meantime, engineering experts agree the wall would most likely take years to complete. Keep in mind, too, it took more than six years to build roughly 700 miles of fence and barriers along the roughly 2,000-mile U. S. -Mexico border.'],\n",
    "          'test_label':test['true']}\n",
    "test_df = pd.DataFrame(test_dict)"
   ]
  },
  {
   "cell_type": "code",
   "execution_count": 11,
   "metadata": {},
   "outputs": [
    {
     "name": "stdout",
     "output_type": "stream",
     "text": [
      "ID                249\n",
      "test_statement    249\n",
      "Justification     249\n",
      "test_label        249\n",
      "dtype: int64\n",
      "ID                207\n",
      "test_statement    207\n",
      "Justification     205\n",
      "test_label        207\n",
      "dtype: int64\n"
     ]
    }
   ],
   "source": [
    "test_false_set = test_df.loc[test_df['test_label'] == 'false']\n",
    "test_true_set = test_df.loc[test_df['test_label'] == 'true']\n",
    "print(test_false_set.count())\n",
    "print(test_true_set.count())"
   ]
  },
  {
   "cell_type": "code",
   "execution_count": 12,
   "metadata": {},
   "outputs": [],
   "source": [
    "real_test_data = pd.concat([test_false_set,test_true_set])\n",
    "real_test_data = shuffle(real_test_data)\n",
    "count_vectorizer = CountVectorizer(stop_words = 'english')\n",
    "count_train = count_vectorizer.fit_transform(real_train_data['train_statement'])\n",
    "count_test = count_vectorizer.transform(real_test_data['test_statement'])"
   ]
  },
  {
   "cell_type": "code",
   "execution_count": 13,
   "metadata": {},
   "outputs": [
    {
     "name": "stdout",
     "output_type": "stream",
     "text": [
      "['00', '000', '000new', '014', '02', '024', '029', '033', '036', '04']\n",
      "[[0. 0. 0. ... 0. 0. 0.]\n",
      " [0. 0. 0. ... 0. 0. 0.]\n",
      " [0. 0. 0. ... 0. 0. 0.]\n",
      " [0. 0. 0. ... 0. 0. 0.]\n",
      " [0. 0. 0. ... 0. 0. 0.]]\n"
     ]
    }
   ],
   "source": [
    "tfidf_vectorizer = TfidfVectorizer(stop_words='english', max_df=0.7)\n",
    "tfidf_train = tfidf_vectorizer.fit_transform(train_df['train_statement'])\n",
    "tfidf_test = tfidf_vectorizer.transform(test_df['test_statement'])\n",
    "print(tfidf_vectorizer.get_feature_names()[:10])\n",
    "print(tfidf_train.A[:5])"
   ]
  },
  {
   "cell_type": "code",
   "execution_count": 14,
   "metadata": {},
   "outputs": [
    {
     "data": {
      "text/plain": [
       "(10239, 11914)"
      ]
     },
     "execution_count": 14,
     "metadata": {},
     "output_type": "execute_result"
    }
   ],
   "source": [
    "tfidf_train.shape"
   ]
  },
  {
   "cell_type": "code",
   "execution_count": 15,
   "metadata": {},
   "outputs": [
    {
     "name": "stdout",
     "output_type": "stream",
     "text": [
      "   000  02  033  05  054th  07  09  095  10  100  ...    youve  yuri  zeldin  \\\n",
      "0    0   0    0   0      0   0   0    0   0    0  ...        0     0       0   \n",
      "1    0   0    0   0      0   0   0    0   0    0  ...        0     0       0   \n",
      "2    0   0    0   0      0   0   0    0   0    0  ...        0     0       0   \n",
      "3    0   0    0   0      0   0   0    0   0    0  ...        0     0       0   \n",
      "4    0   0    0   0      0   0   0    0   0    0  ...        0     0       0   \n",
      "\n",
      "   zephyr  zero  zika  zip  zombie  zombies  zones  \n",
      "0       0     0     0    0       0        0      0  \n",
      "1       0     0     0    0       0        0      0  \n",
      "2       0     0     0    0       0        0      0  \n",
      "3       0     0     0    0       0        0      0  \n",
      "4       0     0     0    0       0        0      0  \n",
      "\n",
      "[5 rows x 7186 columns]\n",
      "    00  000  000new  014   02  024  029  033  036   04     ...       zip  \\\n",
      "0  0.0  0.0     0.0  0.0  0.0  0.0  0.0  0.0  0.0  0.0     ...       0.0   \n",
      "1  0.0  0.0     0.0  0.0  0.0  0.0  0.0  0.0  0.0  0.0     ...       0.0   \n",
      "2  0.0  0.0     0.0  0.0  0.0  0.0  0.0  0.0  0.0  0.0     ...       0.0   \n",
      "3  0.0  0.0     0.0  0.0  0.0  0.0  0.0  0.0  0.0  0.0     ...       0.0   \n",
      "4  0.0  0.0     0.0  0.0  0.0  0.0  0.0  0.0  0.0  0.0     ...       0.0   \n",
      "\n",
      "   zippo  zombie  zombies  zone  zones  zoning  zoo  zuckerberg  zuckerbergs  \n",
      "0    0.0     0.0      0.0   0.0    0.0     0.0  0.0         0.0          0.0  \n",
      "1    0.0     0.0      0.0   0.0    0.0     0.0  0.0         0.0          0.0  \n",
      "2    0.0     0.0      0.0   0.0    0.0     0.0  0.0         0.0          0.0  \n",
      "3    0.0     0.0      0.0   0.0    0.0     0.0  0.0         0.0          0.0  \n",
      "4    0.0     0.0      0.0   0.0    0.0     0.0  0.0         0.0          0.0  \n",
      "\n",
      "[5 rows x 11914 columns]\n",
      "set()\n",
      "False\n"
     ]
    }
   ],
   "source": [
    "count_df = pd.DataFrame(count_train.A, columns=count_vectorizer.get_feature_names())\n",
    "tfidf_df = pd.DataFrame(tfidf_train.A, columns=tfidf_vectorizer.get_feature_names())\n",
    "print(count_df.head())\n",
    "print(tfidf_df.head())\n",
    "difference = set(count_df.columns) - set(tfidf_df.columns)\n",
    "print(difference)\n",
    "print(count_df.equals(tfidf_df))"
   ]
  },
  {
   "cell_type": "code",
   "execution_count": 17,
   "metadata": {},
   "outputs": [
    {
     "name": "stdout",
     "output_type": "stream",
     "text": [
      "Confusion Matrix\n",
      "[[117  90]\n",
      " [ 87 162]]\n",
      "Multinomial Naive Bayes accuracy:   0.612\n"
     ]
    }
   ],
   "source": [
    "nb_classifier = MultinomialNB()\n",
    "\n",
    "nb_classifier.fit(count_train, real_train_data['train_label'])\n",
    "\n",
    "mnb_pred = nb_classifier.predict(count_test)\n",
    "mnb_score = metrics.accuracy_score(real_test_data['test_label'], mnb_pred)\n",
    "mnb_cm = metrics.confusion_matrix(real_test_data['test_label'], mnb_pred, labels=['true', 'false'])\n",
    "print('Confusion Matrix')\n",
    "print(mnb_cm)\n",
    "print(\"Multinomial Naive Bayes accuracy:   %0.3f\" % mnb_score)"
   ]
  },
  {
   "cell_type": "code",
   "execution_count": 18,
   "metadata": {},
   "outputs": [
    {
     "name": "stdout",
     "output_type": "stream",
     "text": [
      "              precision    recall  f1-score   support\n",
      "\n",
      "       false       0.64      0.65      0.65       249\n",
      "        true       0.57      0.57      0.57       207\n",
      "\n",
      "    accuracy                           0.61       456\n",
      "   macro avg       0.61      0.61      0.61       456\n",
      "weighted avg       0.61      0.61      0.61       456\n",
      "\n"
     ]
    },
    {
     "data": {
      "image/png": "[encoded data removed]",
      "text/plain": [
       "<Figure size 360x360 with 2 Axes>"
      ]
     },
     "metadata": {
      "needs_background": "light"
     },
     "output_type": "display_data"
    }
   ],
   "source": [
    "mnb_cm = metrics.confusion_matrix(real_test_data['test_label'],mnb_pred)\n",
    "plt.show()\n",
    "plt.figure(figsize=(5,5))\n",
    "sns.heatmap(mnb_cm, annot=True, linewidth=.5, square = True, cmap = 'Blues_r',fmt='f');\n",
    "plt.ylabel('Actual label');\n",
    "plt.xlabel('Predicted label');\n",
    "plt.title('Confusion Matrix for MultinomialNB', size = 10);\n",
    "\n",
    "report = classification_report(real_test_data['test_label'],mnb_pred)\n",
    "print(report)"
   ]
  },
  {
   "cell_type": "code",
   "execution_count": 19,
   "metadata": {},
   "outputs": [
    {
     "name": "stdout",
     "output_type": "stream",
     "text": [
      "Confusion Matrix --- PassiveAggressiveClassifier\n",
      "[[103 104]\n",
      " [ 97 152]]\n",
      "Passive Aggressive Classifier accuracy:   0.559\n"
     ]
    }
   ],
   "source": [
    "pa_tfidf_clf = PassiveAggressiveClassifier(50)\n",
    "pa_tfidf_clf.fit(count_train, real_train_data['train_label'])\n",
    "pac_pred = pa_tfidf_clf.predict(count_test)\n",
    "pac_score = metrics.accuracy_score(real_test_data['test_label'], pac_pred)\n",
    "pac_cm = metrics.confusion_matrix(real_test_data['test_label'], pac_pred, labels=['true', 'false'])\n",
    "print('Confusion Matrix --- PassiveAggressiveClassifier')\n",
    "print(pac_cm)\n",
    "\n",
    "print(\"Passive Aggressive Classifier accuracy:   %0.3f\" % pac_score)"
   ]
  },
  {
   "cell_type": "code",
   "execution_count": 31,
   "metadata": {},
   "outputs": [
    {
     "name": "stdout",
     "output_type": "stream",
     "text": [
      "              precision    recall  f1-score   support\n",
      "\n",
      "       false       0.59      0.61      0.60       249\n",
      "        true       0.52      0.50      0.51       207\n",
      "\n",
      "    accuracy                           0.56       456\n",
      "   macro avg       0.55      0.55      0.55       456\n",
      "weighted avg       0.56      0.56      0.56       456\n",
      "\n"
     ]
    },
    {
     "data": {
      "image/png": "[encoded data removed]",
      "text/plain": [
       "<Figure size 360x360 with 2 Axes>"
      ]
     },
     "metadata": {
      "needs_background": "light"
     },
     "output_type": "display_data"
    }
   ],
   "source": [
    "pac_cm = metrics.confusion_matrix(real_test_data['test_label'],pac_pred)\n",
    "plt.show()\n",
    "plt.figure(figsize=(5,5))\n",
    "sns.heatmap(pac_cm, annot=True, linewidth=.5, square = True, cmap = 'Blues_r',fmt='f');\n",
    "plt.ylabel('Actual label');\n",
    "plt.xlabel('Predicted label');\n",
    "plt.title('Confusion Matrix --- MultinomialNB', size = 10);\n",
    "\n",
    "report = classification_report(real_test_data['test_label'],pac_pred)\n",
    "print(report)"
   ]
  },
  {
   "cell_type": "code",
   "execution_count": 21,
   "metadata": {},
   "outputs": [
    {
     "name": "stdout",
     "output_type": "stream",
     "text": [
      "Confusion Matrix --- LinearSVC\n",
      "[[102 105]\n",
      " [100 149]]\n",
      "Support Vector Classifier accuracy:   0.550\n"
     ]
    }
   ],
   "source": [
    "svc_tfidf_clf = LinearSVC()\n",
    "svc_tfidf_clf.fit(count_train, real_train_data['train_label'])\n",
    "svc_pred = svc_tfidf_clf.predict(count_test)\n",
    "svc_score = metrics.accuracy_score(real_test_data['test_label'], svc_pred)\n",
    "svc_cm = metrics.confusion_matrix(real_test_data['test_label'], svc_pred, labels=['true', 'false'])\n",
    "print('Confusion Matrix --- LinearSVC')\n",
    "print(svc_cm)\n",
    "\n",
    "print(\"Support Vector Classifier accuracy:   %0.3f\" % svc_score)"
   ]
  },
  {
   "cell_type": "code",
   "execution_count": 25,
   "metadata": {},
   "outputs": [
    {
     "name": "stdout",
     "output_type": "stream",
     "text": [
      "              precision    recall  f1-score   support\n",
      "\n",
      "       false       0.59      0.60      0.59       249\n",
      "        true       0.50      0.49      0.50       207\n",
      "\n",
      "    accuracy                           0.55       456\n",
      "   macro avg       0.55      0.55      0.55       456\n",
      "weighted avg       0.55      0.55      0.55       456\n",
      "\n"
     ]
    },
    {
     "data": {
      "image/png": "[encoded data removed]",
      "text/plain": [
       "<Figure size 360x360 with 2 Axes>"
      ]
     },
     "metadata": {
      "needs_background": "light"
     },
     "output_type": "display_data"
    }
   ],
   "source": [
    "svc_cm = metrics.confusion_matrix(real_test_data['test_label'],svc_pred)\n",
    "plt.show()\n",
    "plt.figure(figsize=(5,5))\n",
    "sns.heatmap(svc_cm, annot=True, linewidth=.5, square = True, cmap = 'Blues_r',fmt='f');\n",
    "plt.ylabel('Actual label');\n",
    "plt.xlabel('Predicted label');\n",
    "plt.title('Confusion Matrix --- MultinomialNB', size = 10);\n",
    "\n",
    "report = classification_report(real_test_data['test_label'],svc_pred)\n",
    "print(report)"
   ]
  },
  {
   "cell_type": "code",
   "execution_count": 26,
   "metadata": {},
   "outputs": [
    {
     "name": "stdout",
     "output_type": "stream",
     "text": [
      "Confusion Matrix --- SGD Classifier\n",
      "[[101 106]\n",
      " [100 149]]\n",
      "Stochastic Gradient Descent Classifier accuracy:   0.548\n"
     ]
    }
   ],
   "source": [
    "sgd_tfidf_clf = SGDClassifier()\n",
    "sgd_tfidf_clf.fit(count_train, real_train_data['train_label'])\n",
    "sgd_pred = sgd_tfidf_clf.predict(count_test)\n",
    "sgd_score = metrics.accuracy_score(real_test_data['test_label'], sgd_pred)\n",
    "sgd_cm = metrics.confusion_matrix(real_test_data['test_label'], sgd_pred, labels=['true', 'false'])\n",
    "print('Confusion Matrix --- SGD Classifier')\n",
    "print(sgd_cm)\n",
    "\n",
    "print(\"Stochastic Gradient Descent Classifier accuracy:   %0.3f\" % sgd_score)"
   ]
  },
  {
   "cell_type": "code",
   "execution_count": 27,
   "metadata": {},
   "outputs": [
    {
     "name": "stdout",
     "output_type": "stream",
     "text": [
      "              precision    recall  f1-score   support\n",
      "\n",
      "       false       0.58      0.60      0.59       249\n",
      "        true       0.50      0.49      0.50       207\n",
      "\n",
      "    accuracy                           0.55       456\n",
      "   macro avg       0.54      0.54      0.54       456\n",
      "weighted avg       0.55      0.55      0.55       456\n",
      "\n"
     ]
    },
    {
     "data": {
      "image/png": "[encoded data removed]",
      "text/plain": [
       "<Figure size 360x360 with 2 Axes>"
      ]
     },
     "metadata": {
      "needs_background": "light"
     },
     "output_type": "display_data"
    }
   ],
   "source": [
    "cm = metrics.confusion_matrix(real_test_data['test_label'],sgd_pred)\n",
    "plt.show()\n",
    "plt.figure(figsize=(5,5))\n",
    "sns.heatmap(cm, annot=True, linewidth=.5, square = True, cmap = 'Blues_r',fmt='f');\n",
    "plt.ylabel('Actual label');\n",
    "plt.xlabel('Predicted label');\n",
    "plt.title('Confusion Matrix --- MultinomialNB', size = 10);\n",
    "\n",
    "report = classification_report(real_test_data['test_label'],sgd_pred)\n",
    "print(report)"
   ]
  },
  {
   "cell_type": "code",
   "execution_count": null,
   "metadata": {},
   "outputs": [],
   "source": []
  },
  {
   "cell_type": "code",
   "execution_count": null,
   "metadata": {},
   "outputs": [],
   "source": []
  },
  {
   "cell_type": "code",
   "execution_count": null,
   "metadata": {},
   "outputs": [],
   "source": []
  },
  {
   "cell_type": "code",
   "execution_count": null,
   "metadata": {},
   "outputs": [],
   "source": []
  }
 ],
 "metadata": {
  "kernelspec": {
   "display_name": "Python 3",
   "language": "python",
   "name": "python3"
  },
  "language_info": {
   "codemirror_mode": {
    "name": "ipython",
    "version": 3
   },
   "file_extension": ".py",
   "mimetype": "text/x-python",
   "name": "python",
   "nbconvert_exporter": "python",
   "pygments_lexer": "ipython3",
   "version": "3.7.1"
  }
 },
 "nbformat": 4,
 "nbformat_minor": 2
}
